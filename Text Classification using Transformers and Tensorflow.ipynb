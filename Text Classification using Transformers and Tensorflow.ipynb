{
 "cells": [
  {
   "cell_type": "code",
   "execution_count": 5,
   "id": "ba0e4c1b-d10c-45ad-96ac-7cd596442ce8",
   "metadata": {},
   "outputs": [],
   "source": [
    "from datasets import load_dataset"
   ]
  },
  {
   "cell_type": "code",
   "execution_count": 6,
   "id": "60e6e30c-db28-44b9-88f3-3858ae3520b5",
   "metadata": {},
   "outputs": [],
   "source": [
    "emotions = load_dataset(\"emotion\")"
   ]
  },
  {
   "cell_type": "code",
   "execution_count": 7,
   "id": "248848ed-8e92-4f03-b3fc-341933bed19a",
   "metadata": {},
   "outputs": [
    {
     "data": {
      "text/plain": [
       "DatasetDict({\n",
       "    train: Dataset({\n",
       "        features: ['text', 'label'],\n",
       "        num_rows: 16000\n",
       "    })\n",
       "    validation: Dataset({\n",
       "        features: ['text', 'label'],\n",
       "        num_rows: 2000\n",
       "    })\n",
       "    test: Dataset({\n",
       "        features: ['text', 'label'],\n",
       "        num_rows: 2000\n",
       "    })\n",
       "})"
      ]
     },
     "execution_count": 7,
     "metadata": {},
     "output_type": "execute_result"
    }
   ],
   "source": [
    "emotions"
   ]
  },
  {
   "cell_type": "code",
   "execution_count": 8,
   "id": "f902522a-835a-4ef7-ad43-126890866f9d",
   "metadata": {},
   "outputs": [],
   "source": [
    "train_ds = emotions[\"train\"]"
   ]
  },
  {
   "cell_type": "code",
   "execution_count": 9,
   "id": "6ab5fe15-ca84-4938-93b4-6d72c4177539",
   "metadata": {},
   "outputs": [
    {
     "data": {
      "text/plain": [
       "{'text': ['i didnt feel humiliated'], 'label': [0]}"
      ]
     },
     "execution_count": 9,
     "metadata": {},
     "output_type": "execute_result"
    }
   ],
   "source": [
    "train_ds[:1]"
   ]
  },
  {
   "cell_type": "code",
   "execution_count": 10,
   "id": "a993b8f6-d9ff-437f-8639-50e4f7913e50",
   "metadata": {},
   "outputs": [
    {
     "data": {
      "text/plain": [
       "{'text': Value(dtype='string', id=None),\n",
       " 'label': ClassLabel(names=['sadness', 'joy', 'love', 'anger', 'fear', 'surprise'], id=None)}"
      ]
     },
     "execution_count": 10,
     "metadata": {},
     "output_type": "execute_result"
    }
   ],
   "source": [
    "train_ds.features"
   ]
  },
  {
   "cell_type": "code",
   "execution_count": 11,
   "id": "e6e523eb-3118-402d-b737-cc2b6b9faf5e",
   "metadata": {},
   "outputs": [],
   "source": [
    "from transformers import TFAutoModel, AutoTokenizer\n"
   ]
  },
  {
   "cell_type": "code",
   "execution_count": 12,
   "id": "ae41e3dc-d091-4db5-9cef-b8e2c687d466",
   "metadata": {},
   "outputs": [],
   "source": [
    "model_ckpt = 'distilbert-base-uncased'"
   ]
  },
  {
   "cell_type": "code",
   "execution_count": 13,
   "id": "ea7c4ec6-5d27-4ecd-a636-84b00c2b8d76",
   "metadata": {},
   "outputs": [
    {
     "name": "stdout",
     "output_type": "stream",
     "text": [
      "WARNING:tensorflow:From C:\\Users\\manas\\AppData\\Local\\Programs\\Python\\Python312\\Lib\\site-packages\\tf_keras\\src\\losses.py:2976: The name tf.losses.sparse_softmax_cross_entropy is deprecated. Please use tf.compat.v1.losses.sparse_softmax_cross_entropy instead.\n",
      "\n",
      "WARNING:tensorflow:From C:\\Users\\manas\\AppData\\Local\\Programs\\Python\\Python312\\Lib\\site-packages\\tf_keras\\src\\backend.py:873: The name tf.get_default_graph is deprecated. Please use tf.compat.v1.get_default_graph instead.\n",
      "\n",
      "AttributeError: module 'ml_dtypes' has no attribute 'float4_e2m1fn'\n"
     ]
    },
    {
     "name": "stderr",
     "output_type": "stream",
     "text": [
      "Some weights of the PyTorch model were not used when initializing the TF 2.0 model TFDistilBertModel: ['vocab_layer_norm.bias', 'vocab_transform.weight', 'vocab_layer_norm.weight', 'vocab_projector.bias', 'vocab_transform.bias']\n",
      "- This IS expected if you are initializing TFDistilBertModel from a PyTorch model trained on another task or with another architecture (e.g. initializing a TFBertForSequenceClassification model from a BertForPreTraining model).\n",
      "- This IS NOT expected if you are initializing TFDistilBertModel from a PyTorch model that you expect to be exactly identical (e.g. initializing a TFBertForSequenceClassification model from a BertForSequenceClassification model).\n",
      "All the weights of TFDistilBertModel were initialized from the PyTorch model.\n",
      "If your task is similar to the task the model of the checkpoint was trained on, you can already use TFDistilBertModel for predictions without further training.\n"
     ]
    }
   ],
   "source": [
    "tf_model = TFAutoModel.from_pretrained(model_ckpt)"
   ]
  },
  {
   "cell_type": "code",
   "execution_count": 14,
   "id": "d10e381d-6267-4131-96e0-3c9d4847031f",
   "metadata": {},
   "outputs": [],
   "source": [
    "text = \"this is a test\"\n",
    "tokenizer = AutoTokenizer.from_pretrained(model_ckpt)"
   ]
  },
  {
   "cell_type": "code",
   "execution_count": 15,
   "id": "8c524cf7-ce6c-4b9e-991b-11d24fd0d8e5",
   "metadata": {},
   "outputs": [],
   "source": [
    "inputs = tokenizer(text, return_tensors='tf')"
   ]
  },
  {
   "cell_type": "code",
   "execution_count": 16,
   "id": "dceec3a1-77b3-4aac-a403-89327677bdf2",
   "metadata": {},
   "outputs": [
    {
     "name": "stdout",
     "output_type": "stream",
     "text": [
      "tf.Tensor([[ 101 2023 2003 1037 3231  102]], shape=(1, 6), dtype=int32)\n"
     ]
    }
   ],
   "source": [
    "print(inputs['input_ids'])"
   ]
  },
  {
   "cell_type": "code",
   "execution_count": 17,
   "id": "0904a083-31da-4a17-91c7-0c3f5e702822",
   "metadata": {},
   "outputs": [],
   "source": [
    "inputs = {k:v for k,v in inputs.items()}"
   ]
  },
  {
   "cell_type": "code",
   "execution_count": 18,
   "id": "c7b635c9-805b-47c0-9b57-589a29a31539",
   "metadata": {},
   "outputs": [],
   "source": [
    "outputs = tf_model(**inputs)"
   ]
  },
  {
   "cell_type": "code",
   "execution_count": 19,
   "id": "dff7dfb8-ecd3-4d20-9334-5702d2176242",
   "metadata": {},
   "outputs": [
    {
     "name": "stdout",
     "output_type": "stream",
     "text": [
      "TFBaseModelOutput(last_hidden_state=<tf.Tensor: shape=(1, 6, 768), dtype=float32, numpy=\n",
      "array([[[-0.15651304, -0.18619642,  0.05277665, ..., -0.11881151,\n",
      "          0.06620585,  0.54701555],\n",
      "        [-0.35751337, -0.6483561 , -0.06178965, ..., -0.3040192 ,\n",
      "          0.3507684 ,  0.5220682 ],\n",
      "        [-0.27718478, -0.44594476,  0.18184273, ..., -0.09477935,\n",
      "         -0.00757451,  0.99582815],\n",
      "        [-0.28408548, -0.39167717,  0.3752554 , ..., -0.21505737,\n",
      "         -0.11725175,  1.0526478 ],\n",
      "        [ 0.26608253, -0.509364  , -0.31801307, ..., -0.42029804,\n",
      "          0.014442  , -0.214895  ],\n",
      "        [ 0.94406104,  0.01117249, -0.47139436, ...,  0.14394683,\n",
      "         -0.72878313, -0.16194965]]], dtype=float32)>, hidden_states=None, attentions=None)\n"
     ]
    }
   ],
   "source": [
    "print(outputs)"
   ]
  },
  {
   "cell_type": "code",
   "execution_count": 20,
   "id": "8117aa43-0f8b-4bb8-a376-b8b348214128",
   "metadata": {},
   "outputs": [
    {
     "data": {
      "text/plain": [
       "TensorShape([1, 768])"
      ]
     },
     "execution_count": 20,
     "metadata": {},
     "output_type": "execute_result"
    }
   ],
   "source": [
    "outputs.last_hidden_state[:, 0].shape"
   ]
  },
  {
   "cell_type": "code",
   "execution_count": 22,
   "id": "a046cbe4-f2bf-4e32-8971-22a156fed783",
   "metadata": {},
   "outputs": [
    {
     "data": {
      "text/plain": [
       "['input_ids', 'attention_mask']"
      ]
     },
     "execution_count": 22,
     "metadata": {},
     "output_type": "execute_result"
    }
   ],
   "source": [
    "tokenizer.model_input_names"
   ]
  },
  {
   "cell_type": "code",
   "execution_count": 23,
   "id": "05a71e4f-3e1c-4849-af8d-d3fbe0b5f863",
   "metadata": {},
   "outputs": [],
   "source": [
    "def extract_hidden_state(batch):\n",
    "    inputs= {k:v for k,v in batch.items() if k in tokenizer.model_input_names}\n",
    "    last_hidden_state  = tf_model(**inputs).last_hidden_state\n",
    "    return  {\"hidden_state\": last_hidden_state[:,0].numpy()}"
   ]
  },
  {
   "cell_type": "code",
   "execution_count": 24,
   "id": "883b8a95-639b-47c7-b156-abcd3a4218c7",
   "metadata": {},
   "outputs": [],
   "source": [
    "def tokenize(batch):\n",
    "    return tokenizer(batch[\"text\"], padding= True, truncation=True)"
   ]
  },
  {
   "cell_type": "code",
   "execution_count": 25,
   "id": "7c1aeb5e-200c-406e-a78f-bfe96e5902a7",
   "metadata": {},
   "outputs": [
    {
     "data": {
      "application/vnd.jupyter.widget-view+json": {
       "model_id": "a3b24734037b48f882300658edf52003",
       "version_major": 2,
       "version_minor": 0
      },
      "text/plain": [
       "Map:   0%|          | 0/16000 [00:00<?, ? examples/s]"
      ]
     },
     "metadata": {},
     "output_type": "display_data"
    }
   ],
   "source": [
    "emotions_encoded = emotions.map(tokenize, batched=True, batch_size=None)"
   ]
  },
  {
   "cell_type": "code",
   "execution_count": 26,
   "id": "d4ccee6e-31c8-4eae-9896-10fde96e56bb",
   "metadata": {},
   "outputs": [
    {
     "data": {
      "text/html": [
       "<div>\n",
       "<style scoped>\n",
       "    .dataframe tbody tr th:only-of-type {\n",
       "        vertical-align: middle;\n",
       "    }\n",
       "\n",
       "    .dataframe tbody tr th {\n",
       "        vertical-align: top;\n",
       "    }\n",
       "\n",
       "    .dataframe thead th {\n",
       "        text-align: right;\n",
       "    }\n",
       "</style>\n",
       "<table border=\"1\" class=\"dataframe\">\n",
       "  <thead>\n",
       "    <tr style=\"text-align: right;\">\n",
       "      <th></th>\n",
       "      <th>text</th>\n",
       "      <th>label</th>\n",
       "      <th>input_ids</th>\n",
       "      <th>attention_mask</th>\n",
       "    </tr>\n",
       "  </thead>\n",
       "  <tbody>\n",
       "    <tr>\n",
       "      <th>0</th>\n",
       "      <td>i didnt feel humiliated</td>\n",
       "      <td>0</td>\n",
       "      <td>[101, 1045, 2134, 2102, 2514, 26608, 102, 0, 0...</td>\n",
       "      <td>[1, 1, 1, 1, 1, 1, 1, 0, 0, 0, 0, 0, 0, 0, 0, ...</td>\n",
       "    </tr>\n",
       "    <tr>\n",
       "      <th>1</th>\n",
       "      <td>i can go from feeling so hopeless to so damned...</td>\n",
       "      <td>0</td>\n",
       "      <td>[101, 1045, 2064, 2175, 2013, 3110, 2061, 2062...</td>\n",
       "      <td>[1, 1, 1, 1, 1, 1, 1, 1, 1, 1, 1, 1, 1, 1, 1, ...</td>\n",
       "    </tr>\n",
       "    <tr>\n",
       "      <th>2</th>\n",
       "      <td>im grabbing a minute to post i feel greedy wrong</td>\n",
       "      <td>3</td>\n",
       "      <td>[101, 10047, 9775, 1037, 3371, 2000, 2695, 104...</td>\n",
       "      <td>[1, 1, 1, 1, 1, 1, 1, 1, 1, 1, 1, 1, 0, 0, 0, ...</td>\n",
       "    </tr>\n",
       "    <tr>\n",
       "      <th>3</th>\n",
       "      <td>i am ever feeling nostalgic about the fireplac...</td>\n",
       "      <td>2</td>\n",
       "      <td>[101, 1045, 2572, 2412, 3110, 16839, 9080, 128...</td>\n",
       "      <td>[1, 1, 1, 1, 1, 1, 1, 1, 1, 1, 1, 1, 1, 1, 1, ...</td>\n",
       "    </tr>\n",
       "    <tr>\n",
       "      <th>4</th>\n",
       "      <td>i am feeling grouchy</td>\n",
       "      <td>3</td>\n",
       "      <td>[101, 1045, 2572, 3110, 24665, 7140, 11714, 10...</td>\n",
       "      <td>[1, 1, 1, 1, 1, 1, 1, 1, 0, 0, 0, 0, 0, 0, 0, ...</td>\n",
       "    </tr>\n",
       "    <tr>\n",
       "      <th>...</th>\n",
       "      <td>...</td>\n",
       "      <td>...</td>\n",
       "      <td>...</td>\n",
       "      <td>...</td>\n",
       "    </tr>\n",
       "    <tr>\n",
       "      <th>15995</th>\n",
       "      <td>i just had a very brief time in the beanbag an...</td>\n",
       "      <td>0</td>\n",
       "      <td>[101, 1045, 2074, 2018, 1037, 2200, 4766, 2051...</td>\n",
       "      <td>[1, 1, 1, 1, 1, 1, 1, 1, 1, 1, 1, 1, 1, 1, 1, ...</td>\n",
       "    </tr>\n",
       "    <tr>\n",
       "      <th>15996</th>\n",
       "      <td>i am now turning and i feel pathetic that i am...</td>\n",
       "      <td>0</td>\n",
       "      <td>[101, 1045, 2572, 2085, 3810, 1998, 1045, 2514...</td>\n",
       "      <td>[1, 1, 1, 1, 1, 1, 1, 1, 1, 1, 1, 1, 1, 1, 1, ...</td>\n",
       "    </tr>\n",
       "    <tr>\n",
       "      <th>15997</th>\n",
       "      <td>i feel strong and good overall</td>\n",
       "      <td>1</td>\n",
       "      <td>[101, 1045, 2514, 2844, 1998, 2204, 3452, 102,...</td>\n",
       "      <td>[1, 1, 1, 1, 1, 1, 1, 1, 0, 0, 0, 0, 0, 0, 0, ...</td>\n",
       "    </tr>\n",
       "    <tr>\n",
       "      <th>15998</th>\n",
       "      <td>i feel like this was such a rude comment and i...</td>\n",
       "      <td>3</td>\n",
       "      <td>[101, 1045, 2514, 2066, 2023, 2001, 2107, 1037...</td>\n",
       "      <td>[1, 1, 1, 1, 1, 1, 1, 1, 1, 1, 1, 1, 1, 1, 1, ...</td>\n",
       "    </tr>\n",
       "    <tr>\n",
       "      <th>15999</th>\n",
       "      <td>i know a lot but i feel so stupid because i ca...</td>\n",
       "      <td>0</td>\n",
       "      <td>[101, 1045, 2113, 1037, 2843, 2021, 1045, 2514...</td>\n",
       "      <td>[1, 1, 1, 1, 1, 1, 1, 1, 1, 1, 1, 1, 1, 1, 1, ...</td>\n",
       "    </tr>\n",
       "  </tbody>\n",
       "</table>\n",
       "<p>16000 rows × 4 columns</p>\n",
       "</div>"
      ],
      "text/plain": [
       "                                                    text  label  \\\n",
       "0                                i didnt feel humiliated      0   \n",
       "1      i can go from feeling so hopeless to so damned...      0   \n",
       "2       im grabbing a minute to post i feel greedy wrong      3   \n",
       "3      i am ever feeling nostalgic about the fireplac...      2   \n",
       "4                                   i am feeling grouchy      3   \n",
       "...                                                  ...    ...   \n",
       "15995  i just had a very brief time in the beanbag an...      0   \n",
       "15996  i am now turning and i feel pathetic that i am...      0   \n",
       "15997                     i feel strong and good overall      1   \n",
       "15998  i feel like this was such a rude comment and i...      3   \n",
       "15999  i know a lot but i feel so stupid because i ca...      0   \n",
       "\n",
       "                                               input_ids  \\\n",
       "0      [101, 1045, 2134, 2102, 2514, 26608, 102, 0, 0...   \n",
       "1      [101, 1045, 2064, 2175, 2013, 3110, 2061, 2062...   \n",
       "2      [101, 10047, 9775, 1037, 3371, 2000, 2695, 104...   \n",
       "3      [101, 1045, 2572, 2412, 3110, 16839, 9080, 128...   \n",
       "4      [101, 1045, 2572, 3110, 24665, 7140, 11714, 10...   \n",
       "...                                                  ...   \n",
       "15995  [101, 1045, 2074, 2018, 1037, 2200, 4766, 2051...   \n",
       "15996  [101, 1045, 2572, 2085, 3810, 1998, 1045, 2514...   \n",
       "15997  [101, 1045, 2514, 2844, 1998, 2204, 3452, 102,...   \n",
       "15998  [101, 1045, 2514, 2066, 2023, 2001, 2107, 1037...   \n",
       "15999  [101, 1045, 2113, 1037, 2843, 2021, 1045, 2514...   \n",
       "\n",
       "                                          attention_mask  \n",
       "0      [1, 1, 1, 1, 1, 1, 1, 0, 0, 0, 0, 0, 0, 0, 0, ...  \n",
       "1      [1, 1, 1, 1, 1, 1, 1, 1, 1, 1, 1, 1, 1, 1, 1, ...  \n",
       "2      [1, 1, 1, 1, 1, 1, 1, 1, 1, 1, 1, 1, 0, 0, 0, ...  \n",
       "3      [1, 1, 1, 1, 1, 1, 1, 1, 1, 1, 1, 1, 1, 1, 1, ...  \n",
       "4      [1, 1, 1, 1, 1, 1, 1, 1, 0, 0, 0, 0, 0, 0, 0, ...  \n",
       "...                                                  ...  \n",
       "15995  [1, 1, 1, 1, 1, 1, 1, 1, 1, 1, 1, 1, 1, 1, 1, ...  \n",
       "15996  [1, 1, 1, 1, 1, 1, 1, 1, 1, 1, 1, 1, 1, 1, 1, ...  \n",
       "15997  [1, 1, 1, 1, 1, 1, 1, 1, 0, 0, 0, 0, 0, 0, 0, ...  \n",
       "15998  [1, 1, 1, 1, 1, 1, 1, 1, 1, 1, 1, 1, 1, 1, 1, ...  \n",
       "15999  [1, 1, 1, 1, 1, 1, 1, 1, 1, 1, 1, 1, 1, 1, 1, ...  \n",
       "\n",
       "[16000 rows x 4 columns]"
      ]
     },
     "execution_count": 26,
     "metadata": {},
     "output_type": "execute_result"
    }
   ],
   "source": [
    "import pandas as pd\n",
    "pd.DataFrame(emotions_encoded[\"train\"])"
   ]
  },
  {
   "cell_type": "code",
   "execution_count": 27,
   "id": "0fb7a283-0825-4f53-8c33-50c097ba0101",
   "metadata": {},
   "outputs": [],
   "source": [
    "emotions_encoded.set_format(\"tensorflow\", columns=[\"input_ids\", \"attention_mask\", \"label\"])"
   ]
  },
  {
   "cell_type": "code",
   "execution_count": 28,
   "id": "117b408c-6b30-4a02-8b91-ee9344420f72",
   "metadata": {},
   "outputs": [
    {
     "data": {
      "text/plain": [
       "DatasetDict({\n",
       "    train: Dataset({\n",
       "        features: ['text', 'label', 'input_ids', 'attention_mask'],\n",
       "        num_rows: 16000\n",
       "    })\n",
       "    validation: Dataset({\n",
       "        features: ['text', 'label', 'input_ids', 'attention_mask'],\n",
       "        num_rows: 2000\n",
       "    })\n",
       "    test: Dataset({\n",
       "        features: ['text', 'label', 'input_ids', 'attention_mask'],\n",
       "        num_rows: 2000\n",
       "    })\n",
       "})"
      ]
     },
     "execution_count": 28,
     "metadata": {},
     "output_type": "execute_result"
    }
   ],
   "source": [
    "emotions_encoded"
   ]
  },
  {
   "cell_type": "code",
   "execution_count": 29,
   "id": "b65817bb-6837-4494-86af-597e6067da6a",
   "metadata": {},
   "outputs": [
    {
     "name": "stderr",
     "output_type": "stream",
     "text": [
      "C:\\Users\\manas\\AppData\\Local\\Programs\\Python\\Python312\\Lib\\site-packages\\transformers\\generation\\tf_utils.py:465: UserWarning: `seed_generator` is deprecated and will be removed in a future version.\n",
      "  warnings.warn(\"`seed_generator` is deprecated and will be removed in a future version.\", UserWarning)\n"
     ]
    },
    {
     "data": {
      "application/vnd.jupyter.widget-view+json": {
       "model_id": "cc28ed2f379546adb7366f01c4e4bf33",
       "version_major": 2,
       "version_minor": 0
      },
      "text/plain": [
       "Map:   0%|          | 0/16000 [00:00<?, ? examples/s]"
      ]
     },
     "metadata": {},
     "output_type": "display_data"
    },
    {
     "data": {
      "application/vnd.jupyter.widget-view+json": {
       "model_id": "0ebc302c3014425f9120655223b3134d",
       "version_major": 2,
       "version_minor": 0
      },
      "text/plain": [
       "Map:   0%|          | 0/2000 [00:00<?, ? examples/s]"
      ]
     },
     "metadata": {},
     "output_type": "display_data"
    },
    {
     "data": {
      "application/vnd.jupyter.widget-view+json": {
       "model_id": "1b2f6a66ead94455ba8aab02708c23ad",
       "version_major": 2,
       "version_minor": 0
      },
      "text/plain": [
       "Map:   0%|          | 0/2000 [00:00<?, ? examples/s]"
      ]
     },
     "metadata": {},
     "output_type": "display_data"
    }
   ],
   "source": [
    "emotions_hidden = emotions_encoded.map(extract_hidden_state, batched=True)"
   ]
  },
  {
   "cell_type": "code",
   "execution_count": 30,
   "id": "6f0563cb-f7e4-4014-a119-48137a0c0f70",
   "metadata": {},
   "outputs": [],
   "source": [
    "import numpy as np"
   ]
  },
  {
   "cell_type": "code",
   "execution_count": 31,
   "id": "fff6943d-250d-4b80-a8f7-4c1dc6609fb3",
   "metadata": {},
   "outputs": [
    {
     "data": {
      "text/plain": [
       "DatasetDict({\n",
       "    train: Dataset({\n",
       "        features: ['text', 'label', 'input_ids', 'attention_mask', 'hidden_state'],\n",
       "        num_rows: 16000\n",
       "    })\n",
       "    validation: Dataset({\n",
       "        features: ['text', 'label', 'input_ids', 'attention_mask', 'hidden_state'],\n",
       "        num_rows: 2000\n",
       "    })\n",
       "    test: Dataset({\n",
       "        features: ['text', 'label', 'input_ids', 'attention_mask', 'hidden_state'],\n",
       "        num_rows: 2000\n",
       "    })\n",
       "})"
      ]
     },
     "execution_count": 31,
     "metadata": {},
     "output_type": "execute_result"
    }
   ],
   "source": [
    "emotions_hidden"
   ]
  },
  {
   "cell_type": "code",
   "execution_count": 32,
   "id": "f7e24dce-f504-41a9-8a3f-492fdb45701b",
   "metadata": {},
   "outputs": [],
   "source": [
    "X_train = np.array(emotions_hidden[\"train\"][ \"hidden_state\"])\n",
    "X_label = np.array(emotions_hidden[\"train\"][\"label\"])"
   ]
  },
  {
   "cell_type": "code",
   "execution_count": 33,
   "id": "4a1cc8a1-9a81-40a9-801d-60fcb8e9a0b2",
   "metadata": {},
   "outputs": [],
   "source": [
    "y_train= np.array(emotions_hidden[\"validation\"][\"hidden_state\"])\n",
    "y_label = np.array(emotions_hidden[\"validation\"][\"label\"])"
   ]
  },
  {
   "cell_type": "code",
   "execution_count": 34,
   "id": "c0539077-7ac4-44bb-b532-c57e4dbbec5f",
   "metadata": {},
   "outputs": [
    {
     "data": {
      "text/plain": [
       "(array([[-0.11675121,  0.09857128, -0.12962954, ...,  0.05871081,\n",
       "          0.35432705,  0.40420735],\n",
       "        [-0.03236267, -0.03231487, -0.19572589, ..., -0.17465726,\n",
       "          0.35463768,  0.30276555],\n",
       "        [ 0.03974663,  0.20223337,  0.14227116, ..., -0.11406814,\n",
       "          0.33937812,  0.3958312 ],\n",
       "        ...,\n",
       "        [-0.00339851, -0.09585522,  0.05843524, ..., -0.04272681,\n",
       "          0.24959207,  0.30761614],\n",
       "        [ 0.06660251,  0.17334345,  0.12896657, ...,  0.0611862 ,\n",
       "          0.29038274,  0.4684416 ],\n",
       "        [ 0.01668797,  0.10127114, -0.00731698, ..., -0.06493645,\n",
       "          0.34540543,  0.2199358 ]], dtype=float32),\n",
       " array([0, 0, 3, ..., 1, 3, 0], dtype=int64))"
      ]
     },
     "execution_count": 34,
     "metadata": {},
     "output_type": "execute_result"
    }
   ],
   "source": [
    "X_train, X_label"
   ]
  },
  {
   "cell_type": "code",
   "execution_count": 35,
   "id": "702add40-248b-4a3a-9c53-46e3c198e870",
   "metadata": {},
   "outputs": [
    {
     "data": {
      "text/plain": [
       "(array([[-0.13440834,  0.21829036,  0.12347551, ..., -0.00531261,\n",
       "          0.40892625,  0.55575687],\n",
       "        [ 0.08009711,  0.08259223, -0.04189613, ...,  0.05444114,\n",
       "          0.32190704,  0.36251083],\n",
       "        [ 0.01471848,  0.17494832,  0.04296539, ...,  0.08803076,\n",
       "          0.32207602,  0.25796783],\n",
       "        ...,\n",
       "        [ 0.11886087,  0.09684597, -0.05445658, ...,  0.03132069,\n",
       "          0.19341004,  0.34015718],\n",
       "        [ 0.12177449,  0.01580077, -0.10124985, ..., -0.10977945,\n",
       "          0.25836036,  0.14554884],\n",
       "        [ 0.08095254, -0.02955443, -0.03955503, ..., -0.09794138,\n",
       "          0.19548455,  0.212671  ]], dtype=float32),\n",
       " array([0, 0, 2, ..., 1, 1, 1], dtype=int64))"
      ]
     },
     "execution_count": 35,
     "metadata": {},
     "output_type": "execute_result"
    }
   ],
   "source": [
    "y_train, y_label"
   ]
  },
  {
   "cell_type": "code",
   "execution_count": 36,
   "id": "fb9adf4c-df0a-4bf4-a818-961e96241379",
   "metadata": {},
   "outputs": [
    {
     "data": {
      "text/plain": [
       "((16000, 768), (2000, 768), (16000,), (2000,))"
      ]
     },
     "execution_count": 36,
     "metadata": {},
     "output_type": "execute_result"
    }
   ],
   "source": [
    "X_train.shape, y_train.shape, X_label.shape, y_label.shape"
   ]
  },
  {
   "cell_type": "code",
   "execution_count": 37,
   "id": "c3b93923-ca14-4dd3-b7ff-1462c969b41f",
   "metadata": {},
   "outputs": [],
   "source": [
    "from sklearn.preprocessing import MinMaxScaler"
   ]
  },
  {
   "cell_type": "code",
   "execution_count": 38,
   "id": "4481e486-7104-4343-b4f9-4861f8967d89",
   "metadata": {},
   "outputs": [],
   "source": [
    "X_scaled  = MinMaxScaler().fit_transform(X_train)"
   ]
  },
  {
   "cell_type": "code",
   "execution_count": 39,
   "id": "2c3ea8db-62e9-4cfd-96d4-4414352c1ee6",
   "metadata": {},
   "outputs": [
    {
     "data": {
      "text/plain": [
       "array([[0.36425316, 0.5860988 , 0.39729947, ..., 0.7459279 , 0.50480574,\n",
       "        0.6927483 ],\n",
       "       [0.45346364, 0.45611957, 0.3350113 , ..., 0.5397175 , 0.50513655,\n",
       "        0.60421926],\n",
       "       [0.52969325, 0.6890426 , 0.65353453, ..., 0.5932557 , 0.4888866 ,\n",
       "        0.68543833],\n",
       "       ...,\n",
       "       [0.48408282, 0.3930195 , 0.5745289 , ..., 0.6562948 , 0.39327317,\n",
       "        0.60845244],\n",
       "       [0.55808365, 0.6603529 , 0.6409965 , ..., 0.7481152 , 0.43671125,\n",
       "        0.748806  ],\n",
       "       [0.50531703, 0.58878   , 0.51256496, ..., 0.6366698 , 0.49530506,\n",
       "        0.5319331 ]], dtype=float32)"
      ]
     },
     "execution_count": 39,
     "metadata": {},
     "output_type": "execute_result"
    }
   ],
   "source": [
    "X_scaled"
   ]
  },
  {
   "cell_type": "code",
   "execution_count": 40,
   "id": "aa6a7725-83e7-4954-996c-b688d9ab2d17",
   "metadata": {},
   "outputs": [
    {
     "data": {
      "text/plain": [
       "6"
      ]
     },
     "execution_count": 40,
     "metadata": {},
     "output_type": "execute_result"
    }
   ],
   "source": [
    "num_labels = len(set(X_label))\n",
    "num_labels"
   ]
  },
  {
   "cell_type": "code",
   "execution_count": 41,
   "id": "4a2fa128-4619-4292-a819-4d38217f92f8",
   "metadata": {},
   "outputs": [
    {
     "name": "stderr",
     "output_type": "stream",
     "text": [
      "Some weights of the PyTorch model were not used when initializing the TF 2.0 model TFDistilBertForSequenceClassification: ['vocab_layer_norm.bias', 'vocab_transform.weight', 'vocab_layer_norm.weight', 'vocab_projector.bias', 'vocab_transform.bias']\n",
      "- This IS expected if you are initializing TFDistilBertForSequenceClassification from a PyTorch model trained on another task or with another architecture (e.g. initializing a TFBertForSequenceClassification model from a BertForPreTraining model).\n",
      "- This IS NOT expected if you are initializing TFDistilBertForSequenceClassification from a PyTorch model that you expect to be exactly identical (e.g. initializing a TFBertForSequenceClassification model from a BertForSequenceClassification model).\n",
      "Some weights or buffers of the TF 2.0 model TFDistilBertForSequenceClassification were not initialized from the PyTorch model and are newly initialized: ['pre_classifier.weight', 'pre_classifier.bias', 'classifier.weight', 'classifier.bias']\n",
      "You should probably TRAIN this model on a down-stream task to be able to use it for predictions and inference.\n"
     ]
    }
   ],
   "source": [
    "from transformers import TFAutoModelForSequenceClassification\n",
    "tf_model = (TFAutoModelForSequenceClassification.from_pretrained(model_ckpt,num_labels= num_labels))"
   ]
  },
  {
   "cell_type": "code",
   "execution_count": 42,
   "id": "82763f66-7cd5-4639-85a9-563b5b443a71",
   "metadata": {},
   "outputs": [],
   "source": [
    "tokenizer_columns = tokenizer.model_input_names"
   ]
  },
  {
   "cell_type": "code",
   "execution_count": 43,
   "id": "c8d3f2a3-4277-4236-a08f-c18b4532c8bc",
   "metadata": {},
   "outputs": [
    {
     "data": {
      "text/plain": [
       "['input_ids', 'attention_mask']"
      ]
     },
     "execution_count": 43,
     "metadata": {},
     "output_type": "execute_result"
    }
   ],
   "source": [
    "tokenizer_columns"
   ]
  },
  {
   "cell_type": "code",
   "execution_count": 44,
   "id": "45838175-cbd4-470e-b3d6-bcce73b6053c",
   "metadata": {},
   "outputs": [],
   "source": [
    "batch_size = 32"
   ]
  },
  {
   "cell_type": "code",
   "execution_count": 45,
   "id": "64a0b8ea-0cab-4b8e-a598-78fe12692eaa",
   "metadata": {},
   "outputs": [],
   "source": [
    "tf_train_dataset = emotions_encoded[\"train\"].to_tf_dataset(columns=tokenizer_columns, label_cols=\"label\",batch_size=batch_size, shuffle=False)"
   ]
  },
  {
   "cell_type": "code",
   "execution_count": 46,
   "id": "2ec09536-8ade-4016-880a-b37ff08c69fc",
   "metadata": {},
   "outputs": [],
   "source": [
    "tf_validation_dataset = emotions_encoded[\"validation\"].to_tf_dataset(columns=tokenizer_columns, label_cols=\"label\", batch_size=batch_size, shuffle= False)"
   ]
  },
  {
   "cell_type": "code",
   "execution_count": 47,
   "id": "1c279b6b-92af-45d3-894d-ac4fb21d8b9e",
   "metadata": {},
   "outputs": [],
   "source": [
    "import tensorflow as tf"
   ]
  },
  {
   "cell_type": "code",
   "execution_count": 48,
   "id": "ccd0c716-639b-474a-b49d-dc2c92f48667",
   "metadata": {},
   "outputs": [],
   "source": [
    "tf_model.compile(optimizer = tf.keras.optimizers.Adam(learning_rate=5e-5),\n",
    "                loss =  tf.keras.losses.SparseCategoricalCrossentropy(from_logits=True),\n",
    "                metrics= tf.keras.metrics.SparseCategoricalAccuracy())"
   ]
  },
  {
   "cell_type": "code",
   "execution_count": 49,
   "id": "0f2a4092-317a-408e-b462-a86db6f342af",
   "metadata": {},
   "outputs": [
    {
     "name": "stdout",
     "output_type": "stream",
     "text": [
      "Epoch 1/2\n",
      "WARNING:tensorflow:From C:\\Users\\manas\\AppData\\Local\\Programs\\Python\\Python312\\Lib\\site-packages\\tf_keras\\src\\utils\\tf_utils.py:492: The name tf.ragged.RaggedTensorValue is deprecated. Please use tf.compat.v1.ragged.RaggedTensorValue instead.\n",
      "\n",
      "500/500 [==============================] - 3255s 6s/step - loss: 0.4214 - sparse_categorical_accuracy: 0.8524 - val_loss: 0.1775 - val_sparse_categorical_accuracy: 0.9325\n",
      "Epoch 2/2\n",
      "500/500 [==============================] - 2251s 5s/step - loss: 0.1339 - sparse_categorical_accuracy: 0.9401 - val_loss: 0.1421 - val_sparse_categorical_accuracy: 0.9370\n"
     ]
    },
    {
     "data": {
      "text/plain": [
       "<tf_keras.src.callbacks.History at 0x2048d2d1eb0>"
      ]
     },
     "execution_count": 49,
     "metadata": {},
     "output_type": "execute_result"
    }
   ],
   "source": [
    "tf_model.fit(tf_train_dataset,validation_data=tf_validation_dataset,epochs=2)"
   ]
  },
  {
   "cell_type": "code",
   "execution_count": 79,
   "id": "3a7408ec-13bc-45d8-a1e9-ee8a271fed27",
   "metadata": {},
   "outputs": [],
   "source": [
    "def forward_pass_with_label(batch):\n",
    "    inputs = {k:v for k,v in batch.items() if k in tokenizer.model_input_names}\n",
    "    output = tf_model(**inputs)\n",
    "    pred_label= tf.argmax(output.logits, axis =-1)\n",
    "    loss = tf.keras.losses.SparseCategoricalCrossentropy( from_logits=True, reduction=tf.keras.losses.Reduction.NONE)\n",
    "    loss = loss(batch[\"label\"], output.logits)\n",
    "    return {\"loss\": loss.numpy(),\n",
    "           \"predicted_label\": pred_label.numpy()}"
   ]
  },
  {
   "cell_type": "code",
   "execution_count": 80,
   "id": "30db726a-8fb8-4211-8504-78ad09cc6a62",
   "metadata": {},
   "outputs": [
    {
     "data": {
      "application/vnd.jupyter.widget-view+json": {
       "model_id": "f8a28262d69c49c9a1c848eb43c3f45e",
       "version_major": 2,
       "version_minor": 0
      },
      "text/plain": [
       "Map:   0%|          | 0/2000 [00:00<?, ? examples/s]"
      ]
     },
     "metadata": {},
     "output_type": "display_data"
    }
   ],
   "source": [
    "emotions_encoded.set_format(\"tensorflow\", columns=['input_ids', 'attention_mask', 'label'])\n",
    "emotions_encoded[\"validation\"]= emotions_encoded['validation'].map(forward_pass_with_label,batched=True, batch_size=16)"
   ]
  },
  {
   "cell_type": "code",
   "execution_count": 83,
   "id": "df8a4fee-d659-4f8c-9001-84d5b4f77f8d",
   "metadata": {},
   "outputs": [
    {
     "data": {
      "text/plain": [
       "DatasetDict({\n",
       "    train: Dataset({\n",
       "        features: ['text', 'label', 'input_ids', 'attention_mask'],\n",
       "        num_rows: 16000\n",
       "    })\n",
       "    validation: Dataset({\n",
       "        features: ['text', 'label', 'input_ids', 'attention_mask', 'loss', 'predicted_label'],\n",
       "        num_rows: 2000\n",
       "    })\n",
       "    test: Dataset({\n",
       "        features: ['text', 'label', 'input_ids', 'attention_mask'],\n",
       "        num_rows: 2000\n",
       "    })\n",
       "})"
      ]
     },
     "execution_count": 83,
     "metadata": {},
     "output_type": "execute_result"
    }
   ],
   "source": [
    "emotions_encoded"
   ]
  },
  {
   "cell_type": "code",
   "execution_count": 82,
   "id": "f12ec81a-2629-4c6b-a35a-788f4722579c",
   "metadata": {},
   "outputs": [],
   "source": [
    "emotions_encoded.set_format(\"pandas\")"
   ]
  },
  {
   "cell_type": "code",
   "execution_count": 84,
   "id": "0a111947-d5d1-42cd-9b8f-ac9b8dcce0eb",
   "metadata": {},
   "outputs": [],
   "source": [
    "def label_int2str(row):\n",
    "    return emotions[\"train\"].features[\"label\"].int2str(row)"
   ]
  },
  {
   "cell_type": "code",
   "execution_count": 86,
   "id": "6d76ce35-ef97-468b-80a2-79380bb9e03e",
   "metadata": {},
   "outputs": [],
   "source": [
    "columns = [\"text\", \"label\",\"predicted_label\", \"loss\" ]\n",
    "df_test = emotions_encoded[\"validation\"][:][columns]\n",
    "df_test[\"label\"]= df_test[\"label\"].apply(label_int2str)\n",
    "df_test[\"predicted_label\"]= (df_test[\"predicted_label\"].apply(label_int2str))"
   ]
  },
  {
   "cell_type": "code",
   "execution_count": 88,
   "id": "fb14df6e-023a-48bc-abdc-e89a13d7031d",
   "metadata": {},
   "outputs": [
    {
     "data": {
      "text/html": [
       "<div>\n",
       "<style scoped>\n",
       "    .dataframe tbody tr th:only-of-type {\n",
       "        vertical-align: middle;\n",
       "    }\n",
       "\n",
       "    .dataframe tbody tr th {\n",
       "        vertical-align: top;\n",
       "    }\n",
       "\n",
       "    .dataframe thead th {\n",
       "        text-align: right;\n",
       "    }\n",
       "</style>\n",
       "<table border=\"1\" class=\"dataframe\">\n",
       "  <thead>\n",
       "    <tr style=\"text-align: right;\">\n",
       "      <th></th>\n",
       "      <th>text</th>\n",
       "      <th>label</th>\n",
       "      <th>predicted_label</th>\n",
       "      <th>loss</th>\n",
       "    </tr>\n",
       "  </thead>\n",
       "  <tbody>\n",
       "    <tr>\n",
       "      <th>405</th>\n",
       "      <td>i have been feeling extraordinarily indecisive...</td>\n",
       "      <td>fear</td>\n",
       "      <td>joy</td>\n",
       "      <td>8.844959</td>\n",
       "    </tr>\n",
       "    <tr>\n",
       "      <th>1801</th>\n",
       "      <td>i feel that he was being overshadowed by the s...</td>\n",
       "      <td>love</td>\n",
       "      <td>sadness</td>\n",
       "      <td>7.735939</td>\n",
       "    </tr>\n",
       "    <tr>\n",
       "      <th>415</th>\n",
       "      <td>im kind of embarrassed about feeling that way ...</td>\n",
       "      <td>love</td>\n",
       "      <td>joy</td>\n",
       "      <td>5.930142</td>\n",
       "    </tr>\n",
       "    <tr>\n",
       "      <th>1961</th>\n",
       "      <td>i feel more well rested though my sinuses stil...</td>\n",
       "      <td>joy</td>\n",
       "      <td>sadness</td>\n",
       "      <td>5.556807</td>\n",
       "    </tr>\n",
       "    <tr>\n",
       "      <th>1111</th>\n",
       "      <td>im lazy my characters fall into categories of ...</td>\n",
       "      <td>joy</td>\n",
       "      <td>fear</td>\n",
       "      <td>5.374475</td>\n",
       "    </tr>\n",
       "    <tr>\n",
       "      <th>966</th>\n",
       "      <td>i find myself trying to discreetly smell his b...</td>\n",
       "      <td>sadness</td>\n",
       "      <td>fear</td>\n",
       "      <td>5.319673</td>\n",
       "    </tr>\n",
       "    <tr>\n",
       "      <th>1124</th>\n",
       "      <td>someone acting stupid in public</td>\n",
       "      <td>anger</td>\n",
       "      <td>sadness</td>\n",
       "      <td>5.212431</td>\n",
       "    </tr>\n",
       "    <tr>\n",
       "      <th>1367</th>\n",
       "      <td>that day i was alone at home after coming home...</td>\n",
       "      <td>fear</td>\n",
       "      <td>sadness</td>\n",
       "      <td>5.084856</td>\n",
       "    </tr>\n",
       "    <tr>\n",
       "      <th>1032</th>\n",
       "      <td>i began to feel woeful as i stared into the ab...</td>\n",
       "      <td>sadness</td>\n",
       "      <td>joy</td>\n",
       "      <td>4.015267</td>\n",
       "    </tr>\n",
       "    <tr>\n",
       "      <th>367</th>\n",
       "      <td>i feel assaulted by all directions</td>\n",
       "      <td>sadness</td>\n",
       "      <td>fear</td>\n",
       "      <td>3.934339</td>\n",
       "    </tr>\n",
       "  </tbody>\n",
       "</table>\n",
       "</div>"
      ],
      "text/plain": [
       "                                                   text    label  \\\n",
       "405   i have been feeling extraordinarily indecisive...     fear   \n",
       "1801  i feel that he was being overshadowed by the s...     love   \n",
       "415   im kind of embarrassed about feeling that way ...     love   \n",
       "1961  i feel more well rested though my sinuses stil...      joy   \n",
       "1111  im lazy my characters fall into categories of ...      joy   \n",
       "966   i find myself trying to discreetly smell his b...  sadness   \n",
       "1124                    someone acting stupid in public    anger   \n",
       "1367  that day i was alone at home after coming home...     fear   \n",
       "1032  i began to feel woeful as i stared into the ab...  sadness   \n",
       "367                  i feel assaulted by all directions  sadness   \n",
       "\n",
       "     predicted_label      loss  \n",
       "405              joy  8.844959  \n",
       "1801         sadness  7.735939  \n",
       "415              joy  5.930142  \n",
       "1961         sadness  5.556807  \n",
       "1111            fear  5.374475  \n",
       "966             fear  5.319673  \n",
       "1124         sadness  5.212431  \n",
       "1367         sadness  5.084856  \n",
       "1032             joy  4.015267  \n",
       "367             fear  3.934339  "
      ]
     },
     "execution_count": 88,
     "metadata": {},
     "output_type": "execute_result"
    }
   ],
   "source": [
    "df_test.sort_values(\"loss\", ascending =False).head(10)"
   ]
  },
  {
   "cell_type": "code",
   "execution_count": 89,
   "id": "3e3aa9b3-1f96-411e-aedc-9994e7f9b1dd",
   "metadata": {},
   "outputs": [
    {
     "data": {
      "text/html": [
       "<div>\n",
       "<style scoped>\n",
       "    .dataframe tbody tr th:only-of-type {\n",
       "        vertical-align: middle;\n",
       "    }\n",
       "\n",
       "    .dataframe tbody tr th {\n",
       "        vertical-align: top;\n",
       "    }\n",
       "\n",
       "    .dataframe thead th {\n",
       "        text-align: right;\n",
       "    }\n",
       "</style>\n",
       "<table border=\"1\" class=\"dataframe\">\n",
       "  <thead>\n",
       "    <tr style=\"text-align: right;\">\n",
       "      <th></th>\n",
       "      <th>text</th>\n",
       "      <th>label</th>\n",
       "      <th>predicted_label</th>\n",
       "      <th>loss</th>\n",
       "    </tr>\n",
       "  </thead>\n",
       "  <tbody>\n",
       "    <tr>\n",
       "      <th>1082</th>\n",
       "      <td>i feel the cool night air against my face</td>\n",
       "      <td>joy</td>\n",
       "      <td>joy</td>\n",
       "      <td>0.000803</td>\n",
       "    </tr>\n",
       "    <tr>\n",
       "      <th>71</th>\n",
       "      <td>i must say to get to this point where i feel n...</td>\n",
       "      <td>joy</td>\n",
       "      <td>joy</td>\n",
       "      <td>0.000813</td>\n",
       "    </tr>\n",
       "    <tr>\n",
       "      <th>1619</th>\n",
       "      <td>i sat in the car and read my book which suited...</td>\n",
       "      <td>joy</td>\n",
       "      <td>joy</td>\n",
       "      <td>0.000822</td>\n",
       "    </tr>\n",
       "    <tr>\n",
       "      <th>197</th>\n",
       "      <td>i feel so cool like ice t huhwe neun gatda beo...</td>\n",
       "      <td>joy</td>\n",
       "      <td>joy</td>\n",
       "      <td>0.000826</td>\n",
       "    </tr>\n",
       "    <tr>\n",
       "      <th>107</th>\n",
       "      <td>i feel the cool edge of the barrel against my ...</td>\n",
       "      <td>joy</td>\n",
       "      <td>joy</td>\n",
       "      <td>0.000828</td>\n",
       "    </tr>\n",
       "    <tr>\n",
       "      <th>876</th>\n",
       "      <td>i feel like the cool mom</td>\n",
       "      <td>joy</td>\n",
       "      <td>joy</td>\n",
       "      <td>0.000828</td>\n",
       "    </tr>\n",
       "    <tr>\n",
       "      <th>329</th>\n",
       "      <td>i have had my treasury selection on the front ...</td>\n",
       "      <td>joy</td>\n",
       "      <td>joy</td>\n",
       "      <td>0.000831</td>\n",
       "    </tr>\n",
       "    <tr>\n",
       "      <th>1657</th>\n",
       "      <td>i get up to refill my coffee and feel that ple...</td>\n",
       "      <td>joy</td>\n",
       "      <td>joy</td>\n",
       "      <td>0.000832</td>\n",
       "    </tr>\n",
       "    <tr>\n",
       "      <th>715</th>\n",
       "      <td>i feel mellow i feel free and i feel completel...</td>\n",
       "      <td>joy</td>\n",
       "      <td>joy</td>\n",
       "      <td>0.000833</td>\n",
       "    </tr>\n",
       "    <tr>\n",
       "      <th>1727</th>\n",
       "      <td>i still didnt feel satisfied with and about my...</td>\n",
       "      <td>joy</td>\n",
       "      <td>joy</td>\n",
       "      <td>0.000835</td>\n",
       "    </tr>\n",
       "  </tbody>\n",
       "</table>\n",
       "</div>"
      ],
      "text/plain": [
       "                                                   text label predicted_label  \\\n",
       "1082          i feel the cool night air against my face   joy             joy   \n",
       "71    i must say to get to this point where i feel n...   joy             joy   \n",
       "1619  i sat in the car and read my book which suited...   joy             joy   \n",
       "197   i feel so cool like ice t huhwe neun gatda beo...   joy             joy   \n",
       "107   i feel the cool edge of the barrel against my ...   joy             joy   \n",
       "876                            i feel like the cool mom   joy             joy   \n",
       "329   i have had my treasury selection on the front ...   joy             joy   \n",
       "1657  i get up to refill my coffee and feel that ple...   joy             joy   \n",
       "715   i feel mellow i feel free and i feel completel...   joy             joy   \n",
       "1727  i still didnt feel satisfied with and about my...   joy             joy   \n",
       "\n",
       "          loss  \n",
       "1082  0.000803  \n",
       "71    0.000813  \n",
       "1619  0.000822  \n",
       "197   0.000826  \n",
       "107   0.000828  \n",
       "876   0.000828  \n",
       "329   0.000831  \n",
       "1657  0.000832  \n",
       "715   0.000833  \n",
       "1727  0.000835  "
      ]
     },
     "execution_count": 89,
     "metadata": {},
     "output_type": "execute_result"
    }
   ],
   "source": [
    "df_test.sort_values(\"loss\", ascending =True).head(10)"
   ]
  },
  {
   "cell_type": "code",
   "execution_count": 127,
   "id": "6249ede5-d91e-4131-aaa0-41c56fa2f2ef",
   "metadata": {},
   "outputs": [],
   "source": [
    "text = \"I saw a movie and it was really awesome\""
   ]
  },
  {
   "cell_type": "code",
   "execution_count": 134,
   "id": "596669fc-7215-41ab-b63c-9329a3b050fd",
   "metadata": {},
   "outputs": [],
   "source": [
    "def prediction(text):\n",
    "    tokenized_txt = tokenizer(text, return_tensors=\"tf\")\n",
    "    output = tf_model(**tokenized_txt)\n",
    "    probabilities = tf.nn.softmax(output.logits, axis=-1)\n",
    "    pred_label = tf.argmax(probabilities, axis=-1)\n",
    "    pred_score = tf.reduce_max(probabilities, axis=-1)\n",
    "    pred_label_int = pred_label\n",
    "    pred_score_val = pred_score.numpy()[0]\n",
    "    return {\"label\": label_int2str(pred_label_int), \"score\": pred_score_val}\n"
   ]
  },
  {
   "cell_type": "code",
   "execution_count": 135,
   "id": "72292226-6325-4d88-9684-16b16368d083",
   "metadata": {},
   "outputs": [
    {
     "data": {
      "text/plain": [
       "{'label': ['joy'], 'score': 0.9945387}"
      ]
     },
     "execution_count": 135,
     "metadata": {},
     "output_type": "execute_result"
    }
   ],
   "source": [
    "prediction(text)"
   ]
  },
  {
   "cell_type": "code",
   "execution_count": null,
   "id": "1fe74a4d-9a59-42b3-8a83-65767f41c955",
   "metadata": {},
   "outputs": [],
   "source": []
  }
 ],
 "metadata": {
  "kernelspec": {
   "display_name": "Python 3 (ipykernel)",
   "language": "python",
   "name": "python3"
  },
  "language_info": {
   "codemirror_mode": {
    "name": "ipython",
    "version": 3
   },
   "file_extension": ".py",
   "mimetype": "text/x-python",
   "name": "python",
   "nbconvert_exporter": "python",
   "pygments_lexer": "ipython3",
   "version": "3.12.5"
  }
 },
 "nbformat": 4,
 "nbformat_minor": 5
}
