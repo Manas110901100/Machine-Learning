{
 "cells": [
  {
   "cell_type": "code",
   "execution_count": 1,
   "id": "fad5f46d-1371-4336-9d56-c79ede31c43b",
   "metadata": {},
   "outputs": [],
   "source": [
    "import pandas as pd\n",
    "import numpy as np"
   ]
  },
  {
   "cell_type": "code",
   "execution_count": 2,
   "id": "e470be2d-e3a3-4442-bb76-1f6f66c1d190",
   "metadata": {},
   "outputs": [],
   "source": [
    "dataset=pd.read_csv(\"C:/Users/manas/Downloads/Training.csv/Training1.csv\")\n",
    "dataset=dataset.drop_duplicates()"
   ]
  },
  {
   "cell_type": "code",
   "execution_count": 3,
   "id": "b4e238fd-89f2-4c18-b495-4aa6928c8f1d",
   "metadata": {
    "scrolled": true
   },
   "outputs": [
    {
     "name": "stderr",
     "output_type": "stream",
     "text": [
      "C:\\Users\\manas\\AppData\\Local\\Temp\\ipykernel_25412\\1530702261.py:3: FutureWarning: Downcasting object dtype arrays on .fillna, .ffill, .bfill is deprecated and will change in a future version. Call result.infer_objects(copy=False) instead. To opt-in to the future behavior, set `pd.set_option('future.no_silent_downcasting', True)`\n",
      "  prediction_df=prediction_df.fillna(0)\n"
     ]
    }
   ],
   "source": [
    "prediction_df=pd.DataFrame(index=[1], columns=dataset.columns)\n",
    "prediction_df=prediction_df.drop([\"prognosis\"],axis=1)\n",
    "prediction_df=prediction_df.fillna(0)\n",
    "prediction_df=prediction_df.drop([\"Unnamed: 0\"],axis=1)"
   ]
  },
  {
   "cell_type": "code",
   "execution_count": 4,
   "id": "10880333-9d35-4e0f-8b9a-eb663330ca02",
   "metadata": {},
   "outputs": [],
   "source": [
    "symptoms=[]\n",
    "for i in prediction_df.columns:\n",
    "    \n",
    "    symptoms.append(i)"
   ]
  },
  {
   "cell_type": "code",
   "execution_count": 5,
   "id": "c6806ba8-8b2e-4a78-a186-a7d916d4261b",
   "metadata": {},
   "outputs": [],
   "source": [
    "\n",
    "\n",
    "import spacy\n",
    "nlp=spacy.load(\"en_core_web_sm\")"
   ]
  },
  {
   "cell_type": "code",
   "execution_count": 6,
   "id": "48cbdfc7-47a5-42c7-a5b1-559cf8dcaa4c",
   "metadata": {},
   "outputs": [
    {
     "data": {
      "text/plain": [
       "<function __main__.custom_neg_component(doc)>"
      ]
     },
     "execution_count": 6,
     "metadata": {},
     "output_type": "execute_result"
    }
   ],
   "source": [
    "from spacy.language import Language\n",
    "from spacy.tokens import Token\n",
    "nlp = spacy.load(\"en_core_web_sm\")\n",
    "@Language.component(\"custom_neg_component\")\n",
    "def custom_neg_component(doc):\n",
    "    for token in doc:\n",
    "        if token.text.lower() == \"no\":\n",
    "            if not Token.has_extension(\"dep_\"):\n",
    "                Token.set_extension(\"dep_\", default=None, force=True)\n",
    "            token._.dep_ = \"neg\"\n",
    "    return doc\n",
    "nlp.add_pipe(\"custom_neg_component\", after=\"parser\")"
   ]
  },
  {
   "cell_type": "code",
   "execution_count": 7,
   "id": "dd09b642-8aef-4338-a197-b4b50eaf5c5d",
   "metadata": {},
   "outputs": [
    {
     "name": "stdin",
     "output_type": "stream",
     "text": [
      "please tell your symptoms: itching\n"
     ]
    }
   ],
   "source": [
    "import spacy\n",
    "nlp = spacy.load('en_core_web_sm')\n",
    "user_input = input(\"please tell your symptoms:\")\n",
    "doc = nlp(user_input)\n",
    "\n",
    "def contains_negation(sent):\n",
    "    for token in sent:\n",
    "        if token.dep_ == 'neg':\n",
    "            return True\n",
    "    return False\n",
    "    \n",
    "def remove_negative_sentences(text):\n",
    "    doc = nlp(text)\n",
    "    cleaned_list = [sent.text for sent in doc.sents if not contains_negation(sent)]\n",
    "    return ' '.join(cleaned_list)\n",
    "filtered_text = remove_negative_sentences(user_input)\n",
    "\n",
    "filtered_doc = nlp(filtered_text)\n",
    "recognized_symptoms=[]\n",
    "for i in prediction_df.columns:\n",
    "    if i in filtered_text:\n",
    "        recognized_symptoms.append(i)\n",
    "\n",
    "for j in prediction_df.columns:\n",
    "    if j in recognized_symptoms:\n",
    "        prediction_df[j]=1\n",
    "    else:\n",
    "        prediction_df[j]=0\n"
   ]
  },
  {
   "cell_type": "code",
   "execution_count": 8,
   "id": "7e257385-0535-4cf4-b7bd-a6d5448dd953",
   "metadata": {},
   "outputs": [
    {
     "data": {
      "text/html": [
       "<div>\n",
       "<style scoped>\n",
       "    .dataframe tbody tr th:only-of-type {\n",
       "        vertical-align: middle;\n",
       "    }\n",
       "\n",
       "    .dataframe tbody tr th {\n",
       "        vertical-align: top;\n",
       "    }\n",
       "\n",
       "    .dataframe thead th {\n",
       "        text-align: right;\n",
       "    }\n",
       "</style>\n",
       "<table border=\"1\" class=\"dataframe\">\n",
       "  <thead>\n",
       "    <tr style=\"text-align: right;\">\n",
       "      <th></th>\n",
       "      <th>itching</th>\n",
       "      <th>skin rash</th>\n",
       "      <th>nodal skin eruptions</th>\n",
       "      <th>continuous sneezing</th>\n",
       "      <th>shivering</th>\n",
       "      <th>chills</th>\n",
       "      <th>joint pain</th>\n",
       "      <th>stomach pain</th>\n",
       "      <th>acidity</th>\n",
       "      <th>ulcers on tongue</th>\n",
       "      <th>...</th>\n",
       "      <th>pus filled pimples</th>\n",
       "      <th>blackheads</th>\n",
       "      <th>scurring</th>\n",
       "      <th>skin peeling</th>\n",
       "      <th>silver like dusting</th>\n",
       "      <th>small dents in nails</th>\n",
       "      <th>inflammatory nails</th>\n",
       "      <th>blister</th>\n",
       "      <th>red sore around nose</th>\n",
       "      <th>yellow crust ooze</th>\n",
       "    </tr>\n",
       "  </thead>\n",
       "  <tbody>\n",
       "    <tr>\n",
       "      <th>1</th>\n",
       "      <td>1</td>\n",
       "      <td>0</td>\n",
       "      <td>0</td>\n",
       "      <td>0</td>\n",
       "      <td>0</td>\n",
       "      <td>0</td>\n",
       "      <td>0</td>\n",
       "      <td>0</td>\n",
       "      <td>0</td>\n",
       "      <td>0</td>\n",
       "      <td>...</td>\n",
       "      <td>0</td>\n",
       "      <td>0</td>\n",
       "      <td>0</td>\n",
       "      <td>0</td>\n",
       "      <td>0</td>\n",
       "      <td>0</td>\n",
       "      <td>0</td>\n",
       "      <td>0</td>\n",
       "      <td>0</td>\n",
       "      <td>0</td>\n",
       "    </tr>\n",
       "  </tbody>\n",
       "</table>\n",
       "<p>1 rows × 132 columns</p>\n",
       "</div>"
      ],
      "text/plain": [
       "   itching  skin rash  nodal skin eruptions  continuous sneezing  shivering  \\\n",
       "1        1          0                     0                    0          0   \n",
       "\n",
       "   chills  joint pain  stomach pain  acidity  ulcers on tongue  ...  \\\n",
       "1       0           0             0        0                 0  ...   \n",
       "\n",
       "   pus filled pimples  blackheads  scurring  skin peeling  \\\n",
       "1                   0           0         0             0   \n",
       "\n",
       "   silver like dusting  small dents in nails  inflammatory nails  blister  \\\n",
       "1                    0                     0                   0        0   \n",
       "\n",
       "   red sore around nose  yellow crust ooze  \n",
       "1                     0                  0  \n",
       "\n",
       "[1 rows x 132 columns]"
      ]
     },
     "execution_count": 8,
     "metadata": {},
     "output_type": "execute_result"
    }
   ],
   "source": [
    "prediction_df.head()\n"
   ]
  },
  {
   "cell_type": "code",
   "execution_count": 9,
   "id": "d68e49ca-75d0-4d01-8264-bcf44833ede2",
   "metadata": {},
   "outputs": [],
   "source": [
    "\n",
    "filtered_rows = dataset[recognized_symptoms].eq(1).all(axis=1)\n",
    "index_list = filtered_rows[filtered_rows].index.tolist()\n"
   ]
  },
  {
   "cell_type": "code",
   "execution_count": 10,
   "id": "42543293-e7bf-4da4-a3ef-4ad8ada50a94",
   "metadata": {},
   "outputs": [],
   "source": [
    "dataset1=dataset.drop(dataset.columns[-1],axis=1)\n",
    "dataset1=dataset1.drop(dataset1.columns[0],axis=1)"
   ]
  },
  {
   "cell_type": "code",
   "execution_count": 11,
   "id": "af5c3583-3f0d-4ccb-9f8c-6a7facb318be",
   "metadata": {},
   "outputs": [
    {
     "name": "stdin",
     "output_type": "stream",
     "text": [
      "do you haveskin rash(y/n) y\n",
      "do you havenodal skin eruptions(y/n) y\n",
      "do you havedischromic patches(y/n) y\n"
     ]
    },
    {
     "name": "stdout",
     "output_type": "stream",
     "text": [
      "your disease at row 0\n"
     ]
    }
   ],
   "source": [
    "match_list=[]\n",
    "for index, row in dataset1.iterrows():\n",
    "    for col in dataset1.columns:\n",
    "        if row[col]==1:\n",
    "            match_list.append(col)\n",
    "        if row[col]==1 and col not in recognized_symptoms:\n",
    "            user_input=input(f\"do you have{col}(y/n)\")\n",
    "            if (user_input=='y'):\n",
    "                recognized_symptoms.append(col) \n",
    "            else:\n",
    "                print(f\"you have no {col}\")\n",
    "    if recognized_symptoms==match_list:\n",
    "        print(f\"I got you Buddy!!\")\n",
    "        break;\n",
    "    match_list.clear()"
   ]
  },
  {
   "cell_type": "code",
   "execution_count": 12,
   "id": "1ea6e86f-b576-4443-a61f-0b73dda356c3",
   "metadata": {},
   "outputs": [
    {
     "data": {
      "text/plain": [
       "['itching', 'skin rash', 'nodal skin eruptions', 'dischromic patches']"
      ]
     },
     "execution_count": 12,
     "metadata": {},
     "output_type": "execute_result"
    }
   ],
   "source": [
    "#match_list"
   ]
  },
  {
   "cell_type": "code",
   "execution_count": 13,
   "id": "0839f1df-9a86-4c7e-942d-ef995acee6d6",
   "metadata": {},
   "outputs": [
    {
     "data": {
      "text/html": [
       "<div>\n",
       "<style scoped>\n",
       "    .dataframe tbody tr th:only-of-type {\n",
       "        vertical-align: middle;\n",
       "    }\n",
       "\n",
       "    .dataframe tbody tr th {\n",
       "        vertical-align: top;\n",
       "    }\n",
       "\n",
       "    .dataframe thead th {\n",
       "        text-align: right;\n",
       "    }\n",
       "</style>\n",
       "<table border=\"1\" class=\"dataframe\">\n",
       "  <thead>\n",
       "    <tr style=\"text-align: right;\">\n",
       "      <th></th>\n",
       "      <th>itching</th>\n",
       "      <th>skin rash</th>\n",
       "      <th>nodal skin eruptions</th>\n",
       "      <th>continuous sneezing</th>\n",
       "      <th>shivering</th>\n",
       "      <th>chills</th>\n",
       "      <th>joint pain</th>\n",
       "      <th>stomach pain</th>\n",
       "      <th>acidity</th>\n",
       "      <th>ulcers on tongue</th>\n",
       "      <th>...</th>\n",
       "      <th>pus filled pimples</th>\n",
       "      <th>blackheads</th>\n",
       "      <th>scurring</th>\n",
       "      <th>skin peeling</th>\n",
       "      <th>silver like dusting</th>\n",
       "      <th>small dents in nails</th>\n",
       "      <th>inflammatory nails</th>\n",
       "      <th>blister</th>\n",
       "      <th>red sore around nose</th>\n",
       "      <th>yellow crust ooze</th>\n",
       "    </tr>\n",
       "  </thead>\n",
       "  <tbody>\n",
       "    <tr>\n",
       "      <th>1</th>\n",
       "      <td>1</td>\n",
       "      <td>0</td>\n",
       "      <td>0</td>\n",
       "      <td>0</td>\n",
       "      <td>0</td>\n",
       "      <td>0</td>\n",
       "      <td>0</td>\n",
       "      <td>0</td>\n",
       "      <td>0</td>\n",
       "      <td>0</td>\n",
       "      <td>...</td>\n",
       "      <td>0</td>\n",
       "      <td>0</td>\n",
       "      <td>0</td>\n",
       "      <td>0</td>\n",
       "      <td>0</td>\n",
       "      <td>0</td>\n",
       "      <td>0</td>\n",
       "      <td>0</td>\n",
       "      <td>0</td>\n",
       "      <td>0</td>\n",
       "    </tr>\n",
       "  </tbody>\n",
       "</table>\n",
       "<p>1 rows × 132 columns</p>\n",
       "</div>"
      ],
      "text/plain": [
       "   itching  skin rash  nodal skin eruptions  continuous sneezing  shivering  \\\n",
       "1        1          0                     0                    0          0   \n",
       "\n",
       "   chills  joint pain  stomach pain  acidity  ulcers on tongue  ...  \\\n",
       "1       0           0             0        0                 0  ...   \n",
       "\n",
       "   pus filled pimples  blackheads  scurring  skin peeling  \\\n",
       "1                   0           0         0             0   \n",
       "\n",
       "   silver like dusting  small dents in nails  inflammatory nails  blister  \\\n",
       "1                    0                     0                   0        0   \n",
       "\n",
       "   red sore around nose  yellow crust ooze  \n",
       "1                     0                  0  \n",
       "\n",
       "[1 rows x 132 columns]"
      ]
     },
     "execution_count": 13,
     "metadata": {},
     "output_type": "execute_result"
    }
   ],
   "source": [
    "#prediction_df"
   ]
  },
  {
   "cell_type": "code",
   "execution_count": null,
   "id": "fc94d889-0ff8-4852-b089-55d819c705c3",
   "metadata": {},
   "outputs": [],
   "source": []
  }
 ],
 "metadata": {
  "kernelspec": {
   "display_name": "Python 3 (ipykernel)",
   "language": "python",
   "name": "python3"
  },
  "language_info": {
   "codemirror_mode": {
    "name": "ipython",
    "version": 3
   },
   "file_extension": ".py",
   "mimetype": "text/x-python",
   "name": "python",
   "nbconvert_exporter": "python",
   "pygments_lexer": "ipython3",
   "version": "3.12.5"
  }
 },
 "nbformat": 4,
 "nbformat_minor": 5
}
